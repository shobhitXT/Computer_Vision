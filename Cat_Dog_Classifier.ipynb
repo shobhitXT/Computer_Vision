{
  "nbformat": 4,
  "nbformat_minor": 0,
  "metadata": {
    "colab": {
      "name": "Cat_Dog_Classifier.ipynb",
      "provenance": [],
      "collapsed_sections": []
    },
    "kernelspec": {
      "name": "python3",
      "display_name": "Python 3"
    },
    "language_info": {
      "name": "python"
    },
    "accelerator": "GPU"
  },
  "cells": [
    {
      "cell_type": "code",
      "metadata": {
        "colab": {
          "base_uri": "https://localhost:8080/"
        },
        "id": "ZAlGNyo_fBie",
        "outputId": "a8774992-e4a8-4b4c-9fa4-3c5a94e31145"
      },
      "source": [
        "cd drive"
      ],
      "execution_count": 3,
      "outputs": [
        {
          "output_type": "stream",
          "text": [
            "/content/drive\n"
          ],
          "name": "stdout"
        }
      ]
    },
    {
      "cell_type": "code",
      "metadata": {
        "colab": {
          "base_uri": "https://localhost:8080/"
        },
        "id": "3O-gY61PfBoX",
        "outputId": "87fb05e1-cae4-4c4f-c87c-56a4c989d1f6"
      },
      "source": [
        "cd MyDrive"
      ],
      "execution_count": 6,
      "outputs": [
        {
          "output_type": "stream",
          "text": [
            "/content/drive/MyDrive\n"
          ],
          "name": "stdout"
        }
      ]
    },
    {
      "cell_type": "code",
      "metadata": {
        "colab": {
          "base_uri": "https://localhost:8080/"
        },
        "id": "0eeJLIiQfbX1",
        "outputId": "ae01f6ee-3121-452d-90fe-47a80dd8e610"
      },
      "source": [
        "ls"
      ],
      "execution_count": 7,
      "outputs": [
        {
          "output_type": "stream",
          "text": [
            " \u001b[0m\u001b[01;34mcat_dog_classification\u001b[0m/   \u001b[01;34mdataset\u001b[0m/\n",
            " cat_dog_data.zip          feature_scaling_model.pkl\n",
            " churn_model.h5           \u001b[01;34m'Google Photos'\u001b[0m/\n",
            " Churn_Modelling.csv      'How to get started with Drive.pdf'\n",
            "\u001b[01;34m'Colab Notebooks'\u001b[0m/        'Untitled site.gsite'\n"
          ],
          "name": "stdout"
        }
      ]
    },
    {
      "cell_type": "code",
      "metadata": {
        "colab": {
          "base_uri": "https://localhost:8080/"
        },
        "id": "b7IfKJMJfvF4",
        "outputId": "c5d6669f-9a96-4313-9d3d-2aad0e9e8534"
      },
      "source": [
        "!unzip cat_dog_data.zip"
      ],
      "execution_count": 8,
      "outputs": [
        {
          "output_type": "stream",
          "text": [
            "Archive:  cat_dog_data.zip\n",
            "replace dataset/single_prediction/cat_or_dog_1.jpg? [y]es, [n]o, [A]ll, [N]one, [r]ename: "
          ],
          "name": "stdout"
        }
      ]
    },
    {
      "cell_type": "code",
      "metadata": {
        "id": "UKo0U2HagFbe"
      },
      "source": [
        "import numpy as np\n",
        "import pandas as pd\n",
        "import matplotlib.pyplot as plt\n",
        "from tensorflow.keras.models import Sequential\n",
        "from tensorflow.keras.layers import Conv2D,MaxPool2D,Flatten,Dense,Dropout\n",
        "from tensorflow.keras.preprocessing import image\n",
        "from tensorflow.keras.preprocessing.image import ImageDataGenerator"
      ],
      "execution_count": 9,
      "outputs": []
    },
    {
      "cell_type": "code",
      "metadata": {
        "id": "l2HTVEk0iuxY"
      },
      "source": [
        "# defining the path\n",
        "training_path='/content/drive/MyDrive/dataset/training_set'\n",
        "testing_path='/content/drive/MyDrive/dataset/test_set'\n",
        "prediction_image_path='/content/drive/MyDrive/dataset/single_prediction'"
      ],
      "execution_count": 10,
      "outputs": []
    },
    {
      "cell_type": "code",
      "metadata": {
        "id": "imPd1jYPivBt"
      },
      "source": [
        "# Image data augmentation is a technique that can be used to artificially expand the size of a training dataset by creating modified versions of \n",
        "# images in the dataset.\n",
        "train_datagen=ImageDataGenerator(rescale=1/255,\n",
        "                                shear_range=0.2,\n",
        "                                zoom_range=0.2,\n",
        "                                horizontal_flip=True)\n",
        "\n",
        "test_datagen=ImageDataGenerator(rescale=1/255)"
      ],
      "execution_count": 11,
      "outputs": []
    },
    {
      "cell_type": "code",
      "metadata": {
        "colab": {
          "base_uri": "https://localhost:8080/"
        },
        "id": "t3FVoWhgivGX",
        "outputId": "8d30812c-9615-48c6-b5a7-6e6b465b873f"
      },
      "source": [
        "# flow_from_directory-This method is useful when the images are sorted and placed in there respective class/label folders. This method will identify \n",
        "# classes automatically from the folder name.\n",
        "\n",
        "training_set=train_datagen.flow_from_directory(training_path,\n",
        "                                               target_size=(64,64), #The target_size is the size of your input images, every image will be resized to this size.\n",
        "                                               batch_size=32,  #batch_size: No. of images to be yielded from the generator per batch.\n",
        "                                               class_mode='binary')\n",
        "\n",
        "test_set=test_datagen.flow_from_directory(testing_path,\n",
        "                                          target_size=(64,64),\n",
        "                                          batch_size=32,\n",
        "                                          class_mode='binary')"
      ],
      "execution_count": 12,
      "outputs": [
        {
          "output_type": "stream",
          "text": [
            "Found 8000 images belonging to 2 classes.\n",
            "Found 2000 images belonging to 2 classes.\n"
          ],
          "name": "stdout"
        }
      ]
    },
    {
      "cell_type": "code",
      "metadata": {
        "colab": {
          "base_uri": "https://localhost:8080/"
        },
        "id": "YjX8ne8rpQFB",
        "outputId": "4ad6f687-acd0-44dc-e584-cc9a097eb2c3"
      },
      "source": [
        "training_set"
      ],
      "execution_count": 13,
      "outputs": [
        {
          "output_type": "execute_result",
          "data": {
            "text/plain": [
              "<tensorflow.python.keras.preprocessing.image.DirectoryIterator at 0x7f0bdc21db50>"
            ]
          },
          "metadata": {
            "tags": []
          },
          "execution_count": 13
        }
      ]
    },
    {
      "cell_type": "code",
      "metadata": {
        "id": "wKzFvWlApQIq"
      },
      "source": [
        "training_data=next(training_set)"
      ],
      "execution_count": 14,
      "outputs": []
    },
    {
      "cell_type": "code",
      "metadata": {
        "colab": {
          "base_uri": "https://localhost:8080/"
        },
        "id": "J5CW5hQzpQMk",
        "outputId": "658c9a98-b926-4f12-c74b-c7882652da07"
      },
      "source": [
        "training_data[0].shape"
      ],
      "execution_count": 15,
      "outputs": [
        {
          "output_type": "execute_result",
          "data": {
            "text/plain": [
              "(32, 64, 64, 3)"
            ]
          },
          "metadata": {
            "tags": []
          },
          "execution_count": 15
        }
      ]
    },
    {
      "cell_type": "code",
      "metadata": {
        "id": "uiUuaMT0qOyt"
      },
      "source": [
        "classifier = Sequential()\n",
        "\n",
        "classifier.add(Conv2D(32,(3,3),activation='relu'))\n",
        "classifier.add(MaxPool2D((2,2)))\n",
        "\n",
        "classifier.add(Conv2D(64,(3,3),activation='relu'))\n",
        "\n",
        "\n",
        "classifier.add(MaxPool2D((2,2)))\n",
        "\n",
        "\n",
        "classifier.add(Flatten())\n",
        "\n",
        "classifier.add(Dense(128 , activation='relu'))\n",
        "classifier.add(Dense(1 , activation='sigmoid'))"
      ],
      "execution_count": 16,
      "outputs": []
    },
    {
      "cell_type": "code",
      "metadata": {
        "id": "Hnx9vlnUr4v0"
      },
      "source": [
        "# compilation\n",
        "classifier.compile('adam', loss='binary_crossentropy',metrics=['accuracy'])"
      ],
      "execution_count": 17,
      "outputs": []
    },
    {
      "cell_type": "code",
      "metadata": {
        "colab": {
          "base_uri": "https://localhost:8080/"
        },
        "id": "otXa2reism0U",
        "outputId": "94356476-5e6e-4485-8c48-d9084cf43a81"
      },
      "source": [
        "#training\n",
        "classifier.fit(training_set,epochs=10,validation_data=test_set)"
      ],
      "execution_count": 18,
      "outputs": [
        {
          "output_type": "stream",
          "text": [
            "Epoch 1/10\n",
            "250/250 [==============================] - 2487s 10s/step - loss: 0.6615 - accuracy: 0.6044 - val_loss: 0.6060 - val_accuracy: 0.6680\n",
            "Epoch 2/10\n",
            "250/250 [==============================] - 41s 163ms/step - loss: 0.5921 - accuracy: 0.6816 - val_loss: 0.5496 - val_accuracy: 0.7200\n",
            "Epoch 3/10\n",
            "250/250 [==============================] - 40s 162ms/step - loss: 0.5478 - accuracy: 0.7207 - val_loss: 0.5082 - val_accuracy: 0.7515\n",
            "Epoch 4/10\n",
            "250/250 [==============================] - 41s 162ms/step - loss: 0.5170 - accuracy: 0.7462 - val_loss: 0.4849 - val_accuracy: 0.7640\n",
            "Epoch 5/10\n",
            "250/250 [==============================] - 41s 162ms/step - loss: 0.4839 - accuracy: 0.7666 - val_loss: 0.4720 - val_accuracy: 0.7790\n",
            "Epoch 6/10\n",
            "250/250 [==============================] - 40s 160ms/step - loss: 0.4685 - accuracy: 0.7836 - val_loss: 0.4995 - val_accuracy: 0.7665\n",
            "Epoch 7/10\n",
            "250/250 [==============================] - 40s 161ms/step - loss: 0.4510 - accuracy: 0.7869 - val_loss: 0.4728 - val_accuracy: 0.7780\n",
            "Epoch 8/10\n",
            "250/250 [==============================] - 40s 159ms/step - loss: 0.4381 - accuracy: 0.8002 - val_loss: 0.5390 - val_accuracy: 0.7460\n",
            "Epoch 9/10\n",
            "250/250 [==============================] - 40s 158ms/step - loss: 0.4332 - accuracy: 0.7959 - val_loss: 0.4409 - val_accuracy: 0.8050\n",
            "Epoch 10/10\n",
            "250/250 [==============================] - 39s 158ms/step - loss: 0.4072 - accuracy: 0.8138 - val_loss: 0.4634 - val_accuracy: 0.7960\n"
          ],
          "name": "stdout"
        },
        {
          "output_type": "execute_result",
          "data": {
            "text/plain": [
              "<tensorflow.python.keras.callbacks.History at 0x7f0bdb9aa050>"
            ]
          },
          "metadata": {
            "tags": []
          },
          "execution_count": 18
        }
      ]
    },
    {
      "cell_type": "code",
      "metadata": {
        "id": "-VHwuJ1otlM1"
      },
      "source": [
        "classifier.save('drive/MyDrive/cat_dog_classification/cat_dog_model.h5')"
      ],
      "execution_count": 24,
      "outputs": []
    },
    {
      "cell_type": "code",
      "metadata": {
        "colab": {
          "base_uri": "https://localhost:8080/"
        },
        "id": "agI9j28hwD13",
        "outputId": "7cc2a057-bbf4-48b2-efc2-04ebbe138e28"
      },
      "source": [
        "test_image=image.load_img(f'{prediction_image_path}/cat_or_dog_1.jpg',target_size=(64,64))\n",
        "test_image=image.img_to_array(test_image)\n",
        "test_image=test_image.reshape(1,64,64,3)\n",
        "result=classifier.predict(test_image)\n",
        "\n",
        "if result[0][0]==1:\n",
        "  print('dog')\n",
        "else:\n",
        "  print('cat')"
      ],
      "execution_count": 25,
      "outputs": [
        {
          "output_type": "stream",
          "text": [
            "dog\n"
          ],
          "name": "stdout"
        }
      ]
    },
    {
      "cell_type": "code",
      "metadata": {
        "id": "XlwDJV86wEGQ"
      },
      "source": [
        ""
      ],
      "execution_count": null,
      "outputs": []
    }
  ]
}